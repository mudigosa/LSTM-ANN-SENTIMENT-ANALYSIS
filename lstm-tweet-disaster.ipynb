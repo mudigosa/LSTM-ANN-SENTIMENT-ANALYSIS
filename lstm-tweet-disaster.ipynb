{
 "cells": [
  {
   "cell_type": "markdown",
   "id": "0b85fed7",
   "metadata": {
    "papermill": {
     "duration": 0.011816,
     "end_time": "2023-06-02T06:02:31.058630",
     "exception": false,
     "start_time": "2023-06-02T06:02:31.046814",
     "status": "completed"
    },
    "tags": []
   },
   "source": [
    "<div style=\"color:white;display:fill;border-radius:8px; background-color:#323232;font-size:150%; font-family:Nexa;letter-spacing:0.5px\"> <p style=\"padding: 8px;color:white;\"><b>Import Libraries</b></p> </div>"
   ]
  },
  {
   "cell_type": "code",
   "execution_count": 1,
   "id": "8df88b50",
   "metadata": {
    "execution": {
     "iopub.execute_input": "2023-06-02T06:02:31.083456Z",
     "iopub.status.busy": "2023-06-02T06:02:31.083044Z",
     "iopub.status.idle": "2023-06-02T06:02:46.617040Z",
     "shell.execute_reply": "2023-06-02T06:02:46.615670Z"
    },
    "papermill": {
     "duration": 15.549765,
     "end_time": "2023-06-02T06:02:46.620165",
     "exception": false,
     "start_time": "2023-06-02T06:02:31.070400",
     "status": "completed"
    },
    "tags": []
   },
   "outputs": [
    {
     "name": "stderr",
     "output_type": "stream",
     "text": [
      "/opt/conda/lib/python3.10/site-packages/scipy/__init__.py:146: UserWarning: A NumPy version >=1.16.5 and <1.23.0 is required for this version of SciPy (detected version 1.23.5\n",
      "  warnings.warn(f\"A NumPy version >={np_minversion} and <{np_maxversion}\"\n"
     ]
    }
   ],
   "source": [
    "import numpy as np\n",
    "import pandas as pd\n",
    "import spacy\n",
    "import string\n",
    "%matplotlib inline\n",
    "\n",
    "import nltk\n",
    "from nltk.tokenize import word_tokenize\n",
    "from nltk.stem import WordNetLemmatizer\n",
    "\n",
    "from sklearn import preprocessing\n",
    "from sklearn.model_selection import train_test_split"
   ]
  },
  {
   "cell_type": "code",
   "execution_count": 2,
   "id": "8bffe04f",
   "metadata": {
    "execution": {
     "iopub.execute_input": "2023-06-02T06:02:46.646359Z",
     "iopub.status.busy": "2023-06-02T06:02:46.644828Z",
     "iopub.status.idle": "2023-06-02T06:02:46.727421Z",
     "shell.execute_reply": "2023-06-02T06:02:46.726295Z"
    },
    "papermill": {
     "duration": 0.098291,
     "end_time": "2023-06-02T06:02:46.730188",
     "exception": false,
     "start_time": "2023-06-02T06:02:46.631897",
     "status": "completed"
    },
    "tags": []
   },
   "outputs": [],
   "source": [
    "train_df = pd.read_csv('/kaggle/input/nlp-getting-started/train.csv') #Train Dataset\n",
    "test_df = pd.read_csv('/kaggle/input/nlp-getting-started/test.csv') #Test Dataset"
   ]
  },
  {
   "cell_type": "code",
   "execution_count": 3,
   "id": "783cf044",
   "metadata": {
    "execution": {
     "iopub.execute_input": "2023-06-02T06:02:46.755079Z",
     "iopub.status.busy": "2023-06-02T06:02:46.754630Z",
     "iopub.status.idle": "2023-06-02T06:02:46.796989Z",
     "shell.execute_reply": "2023-06-02T06:02:46.795685Z"
    },
    "papermill": {
     "duration": 0.057617,
     "end_time": "2023-06-02T06:02:46.799441",
     "exception": false,
     "start_time": "2023-06-02T06:02:46.741824",
     "status": "completed"
    },
    "tags": []
   },
   "outputs": [
    {
     "data": {
      "text/html": [
       "<div>\n",
       "<style scoped>\n",
       "    .dataframe tbody tr th:only-of-type {\n",
       "        vertical-align: middle;\n",
       "    }\n",
       "\n",
       "    .dataframe tbody tr th {\n",
       "        vertical-align: top;\n",
       "    }\n",
       "\n",
       "    .dataframe thead th {\n",
       "        text-align: right;\n",
       "    }\n",
       "</style>\n",
       "<table border=\"1\" class=\"dataframe\">\n",
       "  <thead>\n",
       "    <tr style=\"text-align: right;\">\n",
       "      <th></th>\n",
       "      <th>id</th>\n",
       "      <th>keyword</th>\n",
       "      <th>location</th>\n",
       "      <th>text</th>\n",
       "      <th>target</th>\n",
       "    </tr>\n",
       "  </thead>\n",
       "  <tbody>\n",
       "    <tr>\n",
       "      <th>0</th>\n",
       "      <td>1</td>\n",
       "      <td>NaN</td>\n",
       "      <td>NaN</td>\n",
       "      <td>Our Deeds are the Reason of this #earthquake M...</td>\n",
       "      <td>1</td>\n",
       "    </tr>\n",
       "    <tr>\n",
       "      <th>1</th>\n",
       "      <td>4</td>\n",
       "      <td>NaN</td>\n",
       "      <td>NaN</td>\n",
       "      <td>Forest fire near La Ronge Sask. Canada</td>\n",
       "      <td>1</td>\n",
       "    </tr>\n",
       "    <tr>\n",
       "      <th>2</th>\n",
       "      <td>5</td>\n",
       "      <td>NaN</td>\n",
       "      <td>NaN</td>\n",
       "      <td>All residents asked to 'shelter in place' are ...</td>\n",
       "      <td>1</td>\n",
       "    </tr>\n",
       "    <tr>\n",
       "      <th>3</th>\n",
       "      <td>6</td>\n",
       "      <td>NaN</td>\n",
       "      <td>NaN</td>\n",
       "      <td>13,000 people receive #wildfires evacuation or...</td>\n",
       "      <td>1</td>\n",
       "    </tr>\n",
       "    <tr>\n",
       "      <th>4</th>\n",
       "      <td>7</td>\n",
       "      <td>NaN</td>\n",
       "      <td>NaN</td>\n",
       "      <td>Just got sent this photo from Ruby #Alaska as ...</td>\n",
       "      <td>1</td>\n",
       "    </tr>\n",
       "    <tr>\n",
       "      <th>...</th>\n",
       "      <td>...</td>\n",
       "      <td>...</td>\n",
       "      <td>...</td>\n",
       "      <td>...</td>\n",
       "      <td>...</td>\n",
       "    </tr>\n",
       "    <tr>\n",
       "      <th>7608</th>\n",
       "      <td>10869</td>\n",
       "      <td>NaN</td>\n",
       "      <td>NaN</td>\n",
       "      <td>Two giant cranes holding a bridge collapse int...</td>\n",
       "      <td>1</td>\n",
       "    </tr>\n",
       "    <tr>\n",
       "      <th>7609</th>\n",
       "      <td>10870</td>\n",
       "      <td>NaN</td>\n",
       "      <td>NaN</td>\n",
       "      <td>@aria_ahrary @TheTawniest The out of control w...</td>\n",
       "      <td>1</td>\n",
       "    </tr>\n",
       "    <tr>\n",
       "      <th>7610</th>\n",
       "      <td>10871</td>\n",
       "      <td>NaN</td>\n",
       "      <td>NaN</td>\n",
       "      <td>M1.94 [01:04 UTC]?5km S of Volcano Hawaii. htt...</td>\n",
       "      <td>1</td>\n",
       "    </tr>\n",
       "    <tr>\n",
       "      <th>7611</th>\n",
       "      <td>10872</td>\n",
       "      <td>NaN</td>\n",
       "      <td>NaN</td>\n",
       "      <td>Police investigating after an e-bike collided ...</td>\n",
       "      <td>1</td>\n",
       "    </tr>\n",
       "    <tr>\n",
       "      <th>7612</th>\n",
       "      <td>10873</td>\n",
       "      <td>NaN</td>\n",
       "      <td>NaN</td>\n",
       "      <td>The Latest: More Homes Razed by Northern Calif...</td>\n",
       "      <td>1</td>\n",
       "    </tr>\n",
       "  </tbody>\n",
       "</table>\n",
       "<p>7613 rows × 5 columns</p>\n",
       "</div>"
      ],
      "text/plain": [
       "         id keyword location  \\\n",
       "0         1     NaN      NaN   \n",
       "1         4     NaN      NaN   \n",
       "2         5     NaN      NaN   \n",
       "3         6     NaN      NaN   \n",
       "4         7     NaN      NaN   \n",
       "...     ...     ...      ...   \n",
       "7608  10869     NaN      NaN   \n",
       "7609  10870     NaN      NaN   \n",
       "7610  10871     NaN      NaN   \n",
       "7611  10872     NaN      NaN   \n",
       "7612  10873     NaN      NaN   \n",
       "\n",
       "                                                   text  target  \n",
       "0     Our Deeds are the Reason of this #earthquake M...       1  \n",
       "1                Forest fire near La Ronge Sask. Canada       1  \n",
       "2     All residents asked to 'shelter in place' are ...       1  \n",
       "3     13,000 people receive #wildfires evacuation or...       1  \n",
       "4     Just got sent this photo from Ruby #Alaska as ...       1  \n",
       "...                                                 ...     ...  \n",
       "7608  Two giant cranes holding a bridge collapse int...       1  \n",
       "7609  @aria_ahrary @TheTawniest The out of control w...       1  \n",
       "7610  M1.94 [01:04 UTC]?5km S of Volcano Hawaii. htt...       1  \n",
       "7611  Police investigating after an e-bike collided ...       1  \n",
       "7612  The Latest: More Homes Razed by Northern Calif...       1  \n",
       "\n",
       "[7613 rows x 5 columns]"
      ]
     },
     "execution_count": 3,
     "metadata": {},
     "output_type": "execute_result"
    }
   ],
   "source": [
    "train_df"
   ]
  },
  {
   "cell_type": "code",
   "execution_count": 4,
   "id": "97e1b5fb",
   "metadata": {
    "execution": {
     "iopub.execute_input": "2023-06-02T06:02:46.825483Z",
     "iopub.status.busy": "2023-06-02T06:02:46.825092Z",
     "iopub.status.idle": "2023-06-02T06:02:46.839051Z",
     "shell.execute_reply": "2023-06-02T06:02:46.837843Z"
    },
    "papermill": {
     "duration": 0.029931,
     "end_time": "2023-06-02T06:02:46.841379",
     "exception": false,
     "start_time": "2023-06-02T06:02:46.811448",
     "status": "completed"
    },
    "tags": []
   },
   "outputs": [
    {
     "data": {
      "text/html": [
       "<div>\n",
       "<style scoped>\n",
       "    .dataframe tbody tr th:only-of-type {\n",
       "        vertical-align: middle;\n",
       "    }\n",
       "\n",
       "    .dataframe tbody tr th {\n",
       "        vertical-align: top;\n",
       "    }\n",
       "\n",
       "    .dataframe thead th {\n",
       "        text-align: right;\n",
       "    }\n",
       "</style>\n",
       "<table border=\"1\" class=\"dataframe\">\n",
       "  <thead>\n",
       "    <tr style=\"text-align: right;\">\n",
       "      <th></th>\n",
       "      <th>id</th>\n",
       "      <th>keyword</th>\n",
       "      <th>location</th>\n",
       "      <th>text</th>\n",
       "    </tr>\n",
       "  </thead>\n",
       "  <tbody>\n",
       "    <tr>\n",
       "      <th>0</th>\n",
       "      <td>0</td>\n",
       "      <td>NaN</td>\n",
       "      <td>NaN</td>\n",
       "      <td>Just happened a terrible car crash</td>\n",
       "    </tr>\n",
       "    <tr>\n",
       "      <th>1</th>\n",
       "      <td>2</td>\n",
       "      <td>NaN</td>\n",
       "      <td>NaN</td>\n",
       "      <td>Heard about #earthquake is different cities, s...</td>\n",
       "    </tr>\n",
       "    <tr>\n",
       "      <th>2</th>\n",
       "      <td>3</td>\n",
       "      <td>NaN</td>\n",
       "      <td>NaN</td>\n",
       "      <td>there is a forest fire at spot pond, geese are...</td>\n",
       "    </tr>\n",
       "    <tr>\n",
       "      <th>3</th>\n",
       "      <td>9</td>\n",
       "      <td>NaN</td>\n",
       "      <td>NaN</td>\n",
       "      <td>Apocalypse lighting. #Spokane #wildfires</td>\n",
       "    </tr>\n",
       "    <tr>\n",
       "      <th>4</th>\n",
       "      <td>11</td>\n",
       "      <td>NaN</td>\n",
       "      <td>NaN</td>\n",
       "      <td>Typhoon Soudelor kills 28 in China and Taiwan</td>\n",
       "    </tr>\n",
       "    <tr>\n",
       "      <th>...</th>\n",
       "      <td>...</td>\n",
       "      <td>...</td>\n",
       "      <td>...</td>\n",
       "      <td>...</td>\n",
       "    </tr>\n",
       "    <tr>\n",
       "      <th>3258</th>\n",
       "      <td>10861</td>\n",
       "      <td>NaN</td>\n",
       "      <td>NaN</td>\n",
       "      <td>EARTHQUAKE SAFETY LOS ANGELES ÛÒ SAFETY FASTE...</td>\n",
       "    </tr>\n",
       "    <tr>\n",
       "      <th>3259</th>\n",
       "      <td>10865</td>\n",
       "      <td>NaN</td>\n",
       "      <td>NaN</td>\n",
       "      <td>Storm in RI worse than last hurricane. My city...</td>\n",
       "    </tr>\n",
       "    <tr>\n",
       "      <th>3260</th>\n",
       "      <td>10868</td>\n",
       "      <td>NaN</td>\n",
       "      <td>NaN</td>\n",
       "      <td>Green Line derailment in Chicago http://t.co/U...</td>\n",
       "    </tr>\n",
       "    <tr>\n",
       "      <th>3261</th>\n",
       "      <td>10874</td>\n",
       "      <td>NaN</td>\n",
       "      <td>NaN</td>\n",
       "      <td>MEG issues Hazardous Weather Outlook (HWO) htt...</td>\n",
       "    </tr>\n",
       "    <tr>\n",
       "      <th>3262</th>\n",
       "      <td>10875</td>\n",
       "      <td>NaN</td>\n",
       "      <td>NaN</td>\n",
       "      <td>#CityofCalgary has activated its Municipal Eme...</td>\n",
       "    </tr>\n",
       "  </tbody>\n",
       "</table>\n",
       "<p>3263 rows × 4 columns</p>\n",
       "</div>"
      ],
      "text/plain": [
       "         id keyword location  \\\n",
       "0         0     NaN      NaN   \n",
       "1         2     NaN      NaN   \n",
       "2         3     NaN      NaN   \n",
       "3         9     NaN      NaN   \n",
       "4        11     NaN      NaN   \n",
       "...     ...     ...      ...   \n",
       "3258  10861     NaN      NaN   \n",
       "3259  10865     NaN      NaN   \n",
       "3260  10868     NaN      NaN   \n",
       "3261  10874     NaN      NaN   \n",
       "3262  10875     NaN      NaN   \n",
       "\n",
       "                                                   text  \n",
       "0                    Just happened a terrible car crash  \n",
       "1     Heard about #earthquake is different cities, s...  \n",
       "2     there is a forest fire at spot pond, geese are...  \n",
       "3              Apocalypse lighting. #Spokane #wildfires  \n",
       "4         Typhoon Soudelor kills 28 in China and Taiwan  \n",
       "...                                                 ...  \n",
       "3258  EARTHQUAKE SAFETY LOS ANGELES ÛÒ SAFETY FASTE...  \n",
       "3259  Storm in RI worse than last hurricane. My city...  \n",
       "3260  Green Line derailment in Chicago http://t.co/U...  \n",
       "3261  MEG issues Hazardous Weather Outlook (HWO) htt...  \n",
       "3262  #CityofCalgary has activated its Municipal Eme...  \n",
       "\n",
       "[3263 rows x 4 columns]"
      ]
     },
     "execution_count": 4,
     "metadata": {},
     "output_type": "execute_result"
    }
   ],
   "source": [
    "test_df"
   ]
  },
  {
   "cell_type": "markdown",
   "id": "3e7f9fc4",
   "metadata": {
    "papermill": {
     "duration": 0.011956,
     "end_time": "2023-06-02T06:02:46.865603",
     "exception": false,
     "start_time": "2023-06-02T06:02:46.853647",
     "status": "completed"
    },
    "tags": []
   },
   "source": [
    "<div style=\"color:white;display:fill;border-radius:8px; background-color:#323232;font-size:150%; font-family:Nexa;letter-spacing:0.5px\"> <p style=\"padding: 8px;color:white;\"><b>Text Prerocessing</b></p> </div>"
   ]
  },
  {
   "cell_type": "code",
   "execution_count": 5,
   "id": "901dcdb0",
   "metadata": {
    "execution": {
     "iopub.execute_input": "2023-06-02T06:02:46.892092Z",
     "iopub.status.busy": "2023-06-02T06:02:46.891610Z",
     "iopub.status.idle": "2023-06-02T06:02:46.906762Z",
     "shell.execute_reply": "2023-06-02T06:02:46.905655Z"
    },
    "papermill": {
     "duration": 0.031797,
     "end_time": "2023-06-02T06:02:46.909539",
     "exception": false,
     "start_time": "2023-06-02T06:02:46.877742",
     "status": "completed"
    },
    "tags": []
   },
   "outputs": [],
   "source": [
    "from string import punctuation, digits\n",
    "from nltk.corpus import stopwords\n",
    "stopwords = stopwords.words('english')\n",
    "morewords=['im','youre','wer','aaa']\n",
    "stop_words= stopwords+morewords\n",
    "import re\n",
    "def preprocess(text): \n",
    "    text = re.compile(r'https?://\\S+|www\\.\\S+').sub('', text)#links removal\n",
    "    text = text.lower() #lowercase removal\n",
    "    text = re.sub(r'\\d','',text) #digit removal\n",
    "    text = text.strip() #white space removal\n",
    "    text = re.compile(r'\\b(' + '|'.join(stop_words) + r')\\b\\s*').sub('', text)#stopwords removal\n",
    "    text=re.compile(r'[^a-zA-Z\\s]').sub(r'', text)#unnecessary words Removal \n",
    "    return text"
   ]
  },
  {
   "cell_type": "code",
   "execution_count": 6,
   "id": "190d61a0",
   "metadata": {
    "execution": {
     "iopub.execute_input": "2023-06-02T06:02:46.936192Z",
     "iopub.status.busy": "2023-06-02T06:02:46.935750Z",
     "iopub.status.idle": "2023-06-02T06:02:46.945928Z",
     "shell.execute_reply": "2023-06-02T06:02:46.944598Z"
    },
    "papermill": {
     "duration": 0.026684,
     "end_time": "2023-06-02T06:02:46.948525",
     "exception": false,
     "start_time": "2023-06-02T06:02:46.921841",
     "status": "completed"
    },
    "tags": []
   },
   "outputs": [],
   "source": [
    "emoji_pattern = re.compile(\"[\"\n",
    "    \"\\U0001F1E0-\\U0001F1FF\"  # flags (iOS)\n",
    "    \"\\U0001F300-\\U0001F5FF\"  # symbols & pictographs\n",
    "    \"\\U0001F600-\\U0001F64F\"  # emoticons\n",
    "    \"\\U0001F680-\\U0001F6FF\"  # transport & map symbols\n",
    "    \"\\U0001F700-\\U0001F77F\"  # alchemical symbols\n",
    "    \"\\U0001F780-\\U0001F7FF\"  # Geometric Shapes Extended\n",
    "    \"\\U0001F800-\\U0001F8FF\"  # Supplemental Arrows-C\n",
    "    \"\\U0001F900-\\U0001F9FF\"  # Supplemental Symbols and Pictographs\n",
    "    \"\\U0001FA00-\\U0001FA6F\"  # Chess Symbols\n",
    "    \"\\U0001FA70-\\U0001FAFF\"  # Symbols and Pictographs Extended-A\n",
    "    \"\\U00002702-\\U000027B0\"  # Dingbats\n",
    "    \"\\U000024C2-\\U0001F251\" \n",
    "    \"]+\", flags=re.UNICODE)"
   ]
  },
  {
   "cell_type": "code",
   "execution_count": 7,
   "id": "f7110c64",
   "metadata": {
    "execution": {
     "iopub.execute_input": "2023-06-02T06:02:46.975436Z",
     "iopub.status.busy": "2023-06-02T06:02:46.974195Z",
     "iopub.status.idle": "2023-06-02T06:02:47.341192Z",
     "shell.execute_reply": "2023-06-02T06:02:47.340172Z"
    },
    "papermill": {
     "duration": 0.383087,
     "end_time": "2023-06-02T06:02:47.343718",
     "exception": false,
     "start_time": "2023-06-02T06:02:46.960631",
     "status": "completed"
    },
    "tags": []
   },
   "outputs": [],
   "source": [
    "train_df['pre_text'] = train_df[\"text\"].apply(preprocess) # calling the preprocess for cleaning the data\n",
    "train_df['pre_text'] = train_df['pre_text'].apply(lambda x: emoji_pattern.sub(r'',x)) # remove emojies from the text"
   ]
  },
  {
   "cell_type": "code",
   "execution_count": 8,
   "id": "b65182b9",
   "metadata": {
    "execution": {
     "iopub.execute_input": "2023-06-02T06:02:47.371229Z",
     "iopub.status.busy": "2023-06-02T06:02:47.370280Z",
     "iopub.status.idle": "2023-06-02T06:02:47.530696Z",
     "shell.execute_reply": "2023-06-02T06:02:47.529644Z"
    },
    "papermill": {
     "duration": 0.176983,
     "end_time": "2023-06-02T06:02:47.533397",
     "exception": false,
     "start_time": "2023-06-02T06:02:47.356414",
     "status": "completed"
    },
    "tags": []
   },
   "outputs": [],
   "source": [
    "test_df['pre_text'] = test_df[\"text\"].apply(preprocess) # calling the preprocess for cleaning the data\n",
    "test_df['pre_text'] = test_df['pre_text'].apply(lambda x: emoji_pattern.sub(r'',x)) # remove emojies from the text"
   ]
  },
  {
   "cell_type": "code",
   "execution_count": 9,
   "id": "56ecc6a5",
   "metadata": {
    "execution": {
     "iopub.execute_input": "2023-06-02T06:02:47.560214Z",
     "iopub.status.busy": "2023-06-02T06:02:47.559778Z",
     "iopub.status.idle": "2023-06-02T06:02:47.577887Z",
     "shell.execute_reply": "2023-06-02T06:02:47.576561Z"
    },
    "papermill": {
     "duration": 0.034568,
     "end_time": "2023-06-02T06:02:47.580666",
     "exception": false,
     "start_time": "2023-06-02T06:02:47.546098",
     "status": "completed"
    },
    "tags": []
   },
   "outputs": [
    {
     "data": {
      "text/html": [
       "<div>\n",
       "<style scoped>\n",
       "    .dataframe tbody tr th:only-of-type {\n",
       "        vertical-align: middle;\n",
       "    }\n",
       "\n",
       "    .dataframe tbody tr th {\n",
       "        vertical-align: top;\n",
       "    }\n",
       "\n",
       "    .dataframe thead th {\n",
       "        text-align: right;\n",
       "    }\n",
       "</style>\n",
       "<table border=\"1\" class=\"dataframe\">\n",
       "  <thead>\n",
       "    <tr style=\"text-align: right;\">\n",
       "      <th></th>\n",
       "      <th>text</th>\n",
       "      <th>pre_text</th>\n",
       "    </tr>\n",
       "  </thead>\n",
       "  <tbody>\n",
       "    <tr>\n",
       "      <th>0</th>\n",
       "      <td>Our Deeds are the Reason of this #earthquake M...</td>\n",
       "      <td>deeds reason earthquake may allah forgive us</td>\n",
       "    </tr>\n",
       "    <tr>\n",
       "      <th>1</th>\n",
       "      <td>Forest fire near La Ronge Sask. Canada</td>\n",
       "      <td>forest fire near la ronge sask canada</td>\n",
       "    </tr>\n",
       "    <tr>\n",
       "      <th>2</th>\n",
       "      <td>All residents asked to 'shelter in place' are ...</td>\n",
       "      <td>residents asked shelter place notified officer...</td>\n",
       "    </tr>\n",
       "    <tr>\n",
       "      <th>3</th>\n",
       "      <td>13,000 people receive #wildfires evacuation or...</td>\n",
       "      <td>people receive wildfires evacuation orders ca...</td>\n",
       "    </tr>\n",
       "    <tr>\n",
       "      <th>4</th>\n",
       "      <td>Just got sent this photo from Ruby #Alaska as ...</td>\n",
       "      <td>got sent photo ruby alaska smoke wildfires pou...</td>\n",
       "    </tr>\n",
       "    <tr>\n",
       "      <th>...</th>\n",
       "      <td>...</td>\n",
       "      <td>...</td>\n",
       "    </tr>\n",
       "    <tr>\n",
       "      <th>7608</th>\n",
       "      <td>Two giant cranes holding a bridge collapse int...</td>\n",
       "      <td>two giant cranes holding bridge collapse nearb...</td>\n",
       "    </tr>\n",
       "    <tr>\n",
       "      <th>7609</th>\n",
       "      <td>@aria_ahrary @TheTawniest The out of control w...</td>\n",
       "      <td>ariaahrary thetawniest control wild fires cali...</td>\n",
       "    </tr>\n",
       "    <tr>\n",
       "      <th>7610</th>\n",
       "      <td>M1.94 [01:04 UTC]?5km S of Volcano Hawaii. htt...</td>\n",
       "      <td>utckm volcano hawaii</td>\n",
       "    </tr>\n",
       "    <tr>\n",
       "      <th>7611</th>\n",
       "      <td>Police investigating after an e-bike collided ...</td>\n",
       "      <td>police investigating ebike collided car little...</td>\n",
       "    </tr>\n",
       "    <tr>\n",
       "      <th>7612</th>\n",
       "      <td>The Latest: More Homes Razed by Northern Calif...</td>\n",
       "      <td>latest homes razed northern california wildfir...</td>\n",
       "    </tr>\n",
       "  </tbody>\n",
       "</table>\n",
       "<p>7613 rows × 2 columns</p>\n",
       "</div>"
      ],
      "text/plain": [
       "                                                   text  \\\n",
       "0     Our Deeds are the Reason of this #earthquake M...   \n",
       "1                Forest fire near La Ronge Sask. Canada   \n",
       "2     All residents asked to 'shelter in place' are ...   \n",
       "3     13,000 people receive #wildfires evacuation or...   \n",
       "4     Just got sent this photo from Ruby #Alaska as ...   \n",
       "...                                                 ...   \n",
       "7608  Two giant cranes holding a bridge collapse int...   \n",
       "7609  @aria_ahrary @TheTawniest The out of control w...   \n",
       "7610  M1.94 [01:04 UTC]?5km S of Volcano Hawaii. htt...   \n",
       "7611  Police investigating after an e-bike collided ...   \n",
       "7612  The Latest: More Homes Razed by Northern Calif...   \n",
       "\n",
       "                                               pre_text  \n",
       "0         deeds reason earthquake may allah forgive us   \n",
       "1                 forest fire near la ronge sask canada  \n",
       "2     residents asked shelter place notified officer...  \n",
       "3      people receive wildfires evacuation orders ca...  \n",
       "4     got sent photo ruby alaska smoke wildfires pou...  \n",
       "...                                                 ...  \n",
       "7608  two giant cranes holding bridge collapse nearb...  \n",
       "7609  ariaahrary thetawniest control wild fires cali...  \n",
       "7610                               utckm volcano hawaii  \n",
       "7611  police investigating ebike collided car little...  \n",
       "7612  latest homes razed northern california wildfir...  \n",
       "\n",
       "[7613 rows x 2 columns]"
      ]
     },
     "execution_count": 9,
     "metadata": {},
     "output_type": "execute_result"
    }
   ],
   "source": [
    "train_df[['text','pre_text']]"
   ]
  },
  {
   "cell_type": "code",
   "execution_count": 10,
   "id": "6a1ab956",
   "metadata": {
    "execution": {
     "iopub.execute_input": "2023-06-02T06:02:47.608130Z",
     "iopub.status.busy": "2023-06-02T06:02:47.607670Z",
     "iopub.status.idle": "2023-06-02T06:02:47.623141Z",
     "shell.execute_reply": "2023-06-02T06:02:47.621877Z"
    },
    "papermill": {
     "duration": 0.032428,
     "end_time": "2023-06-02T06:02:47.625742",
     "exception": false,
     "start_time": "2023-06-02T06:02:47.593314",
     "status": "completed"
    },
    "tags": []
   },
   "outputs": [
    {
     "data": {
      "text/html": [
       "<div>\n",
       "<style scoped>\n",
       "    .dataframe tbody tr th:only-of-type {\n",
       "        vertical-align: middle;\n",
       "    }\n",
       "\n",
       "    .dataframe tbody tr th {\n",
       "        vertical-align: top;\n",
       "    }\n",
       "\n",
       "    .dataframe thead th {\n",
       "        text-align: right;\n",
       "    }\n",
       "</style>\n",
       "<table border=\"1\" class=\"dataframe\">\n",
       "  <thead>\n",
       "    <tr style=\"text-align: right;\">\n",
       "      <th></th>\n",
       "      <th>text</th>\n",
       "      <th>pre_text</th>\n",
       "    </tr>\n",
       "  </thead>\n",
       "  <tbody>\n",
       "    <tr>\n",
       "      <th>0</th>\n",
       "      <td>Just happened a terrible car crash</td>\n",
       "      <td>happened terrible car crash</td>\n",
       "    </tr>\n",
       "    <tr>\n",
       "      <th>1</th>\n",
       "      <td>Heard about #earthquake is different cities, s...</td>\n",
       "      <td>heard earthquake different cities stay safe ev...</td>\n",
       "    </tr>\n",
       "    <tr>\n",
       "      <th>2</th>\n",
       "      <td>there is a forest fire at spot pond, geese are...</td>\n",
       "      <td>forest fire spot pond geese fleeing across str...</td>\n",
       "    </tr>\n",
       "    <tr>\n",
       "      <th>3</th>\n",
       "      <td>Apocalypse lighting. #Spokane #wildfires</td>\n",
       "      <td>apocalypse lighting spokane wildfires</td>\n",
       "    </tr>\n",
       "    <tr>\n",
       "      <th>4</th>\n",
       "      <td>Typhoon Soudelor kills 28 in China and Taiwan</td>\n",
       "      <td>typhoon soudelor kills  china taiwan</td>\n",
       "    </tr>\n",
       "    <tr>\n",
       "      <th>...</th>\n",
       "      <td>...</td>\n",
       "      <td>...</td>\n",
       "    </tr>\n",
       "    <tr>\n",
       "      <th>3258</th>\n",
       "      <td>EARTHQUAKE SAFETY LOS ANGELES ÛÒ SAFETY FASTE...</td>\n",
       "      <td>earthquake safety los angeles  safety fastener...</td>\n",
       "    </tr>\n",
       "    <tr>\n",
       "      <th>3259</th>\n",
       "      <td>Storm in RI worse than last hurricane. My city...</td>\n",
       "      <td>storm ri worse last hurricane cityampothers ha...</td>\n",
       "    </tr>\n",
       "    <tr>\n",
       "      <th>3260</th>\n",
       "      <td>Green Line derailment in Chicago http://t.co/U...</td>\n",
       "      <td>green line derailment chicago</td>\n",
       "    </tr>\n",
       "    <tr>\n",
       "      <th>3261</th>\n",
       "      <td>MEG issues Hazardous Weather Outlook (HWO) htt...</td>\n",
       "      <td>meg issues hazardous weather outlook hwo</td>\n",
       "    </tr>\n",
       "    <tr>\n",
       "      <th>3262</th>\n",
       "      <td>#CityofCalgary has activated its Municipal Eme...</td>\n",
       "      <td>cityofcalgary activated municipal emergency pl...</td>\n",
       "    </tr>\n",
       "  </tbody>\n",
       "</table>\n",
       "<p>3263 rows × 2 columns</p>\n",
       "</div>"
      ],
      "text/plain": [
       "                                                   text  \\\n",
       "0                    Just happened a terrible car crash   \n",
       "1     Heard about #earthquake is different cities, s...   \n",
       "2     there is a forest fire at spot pond, geese are...   \n",
       "3              Apocalypse lighting. #Spokane #wildfires   \n",
       "4         Typhoon Soudelor kills 28 in China and Taiwan   \n",
       "...                                                 ...   \n",
       "3258  EARTHQUAKE SAFETY LOS ANGELES ÛÒ SAFETY FASTE...   \n",
       "3259  Storm in RI worse than last hurricane. My city...   \n",
       "3260  Green Line derailment in Chicago http://t.co/U...   \n",
       "3261  MEG issues Hazardous Weather Outlook (HWO) htt...   \n",
       "3262  #CityofCalgary has activated its Municipal Eme...   \n",
       "\n",
       "                                               pre_text  \n",
       "0                           happened terrible car crash  \n",
       "1     heard earthquake different cities stay safe ev...  \n",
       "2     forest fire spot pond geese fleeing across str...  \n",
       "3                 apocalypse lighting spokane wildfires  \n",
       "4                  typhoon soudelor kills  china taiwan  \n",
       "...                                                 ...  \n",
       "3258  earthquake safety los angeles  safety fastener...  \n",
       "3259  storm ri worse last hurricane cityampothers ha...  \n",
       "3260                      green line derailment chicago  \n",
       "3261           meg issues hazardous weather outlook hwo  \n",
       "3262  cityofcalgary activated municipal emergency pl...  \n",
       "\n",
       "[3263 rows x 2 columns]"
      ]
     },
     "execution_count": 10,
     "metadata": {},
     "output_type": "execute_result"
    }
   ],
   "source": [
    "test_df[['text','pre_text']]"
   ]
  },
  {
   "cell_type": "markdown",
   "id": "a5adae19",
   "metadata": {
    "papermill": {
     "duration": 0.012827,
     "end_time": "2023-06-02T06:02:47.651839",
     "exception": false,
     "start_time": "2023-06-02T06:02:47.639012",
     "status": "completed"
    },
    "tags": []
   },
   "source": [
    "<div style=\"color:white;display:fill;border-radius:8px; background-color:#323232;font-size:150%; font-family:Nexa;letter-spacing:0.5px\"> <p style=\"padding: 8px;color:white;\"><b>Split the data</b></p> </div>"
   ]
  },
  {
   "cell_type": "code",
   "execution_count": 11,
   "id": "bca39831",
   "metadata": {
    "execution": {
     "iopub.execute_input": "2023-06-02T06:02:47.680584Z",
     "iopub.status.busy": "2023-06-02T06:02:47.679469Z",
     "iopub.status.idle": "2023-06-02T06:02:47.684888Z",
     "shell.execute_reply": "2023-06-02T06:02:47.683782Z"
    },
    "papermill": {
     "duration": 0.022118,
     "end_time": "2023-06-02T06:02:47.687328",
     "exception": false,
     "start_time": "2023-06-02T06:02:47.665210",
     "status": "completed"
    },
    "tags": []
   },
   "outputs": [],
   "source": [
    "x = train_df['pre_text']\n",
    "y = train_df['target']"
   ]
  },
  {
   "cell_type": "code",
   "execution_count": 12,
   "id": "94fc01f0",
   "metadata": {
    "execution": {
     "iopub.execute_input": "2023-06-02T06:02:47.714516Z",
     "iopub.status.busy": "2023-06-02T06:02:47.714102Z",
     "iopub.status.idle": "2023-06-02T06:02:47.723129Z",
     "shell.execute_reply": "2023-06-02T06:02:47.721986Z"
    },
    "papermill": {
     "duration": 0.025427,
     "end_time": "2023-06-02T06:02:47.725509",
     "exception": false,
     "start_time": "2023-06-02T06:02:47.700082",
     "status": "completed"
    },
    "tags": []
   },
   "outputs": [],
   "source": [
    "from sklearn.model_selection import train_test_split\n",
    "x_train, x_test, y_train, y_test = train_test_split(x,y,test_size=0.2,random_state=2)"
   ]
  },
  {
   "cell_type": "code",
   "execution_count": 13,
   "id": "ce08109e",
   "metadata": {
    "execution": {
     "iopub.execute_input": "2023-06-02T06:02:47.753775Z",
     "iopub.status.busy": "2023-06-02T06:02:47.752756Z",
     "iopub.status.idle": "2023-06-02T06:02:47.759297Z",
     "shell.execute_reply": "2023-06-02T06:02:47.758118Z"
    },
    "papermill": {
     "duration": 0.023327,
     "end_time": "2023-06-02T06:02:47.761630",
     "exception": false,
     "start_time": "2023-06-02T06:02:47.738303",
     "status": "completed"
    },
    "tags": []
   },
   "outputs": [
    {
     "name": "stdout",
     "output_type": "stream",
     "text": [
      "6090 6090 1523 1523\n"
     ]
    }
   ],
   "source": [
    "print(len(y_train),len(x_train),len(x_test),len(y_test))"
   ]
  },
  {
   "cell_type": "markdown",
   "id": "f8493aef",
   "metadata": {
    "papermill": {
     "duration": 0.012953,
     "end_time": "2023-06-02T06:02:47.787280",
     "exception": false,
     "start_time": "2023-06-02T06:02:47.774327",
     "status": "completed"
    },
    "tags": []
   },
   "source": [
    "<div style=\"color:white;display:fill;border-radius:8px; background-color:#323232;font-size:150%; font-family:Nexa;letter-spacing:0.5px\"> <p style=\"padding: 8px;color:white;\"><b>Make vacabulary of Data</b></p> </div>"
   ]
  },
  {
   "cell_type": "code",
   "execution_count": 14,
   "id": "3e04b72a",
   "metadata": {
    "execution": {
     "iopub.execute_input": "2023-06-02T06:02:47.815139Z",
     "iopub.status.busy": "2023-06-02T06:02:47.814706Z",
     "iopub.status.idle": "2023-06-02T06:02:47.823032Z",
     "shell.execute_reply": "2023-06-02T06:02:47.821529Z"
    },
    "papermill": {
     "duration": 0.02537,
     "end_time": "2023-06-02T06:02:47.825605",
     "exception": false,
     "start_time": "2023-06-02T06:02:47.800235",
     "status": "completed"
    },
    "tags": []
   },
   "outputs": [],
   "source": [
    "import tensorflow as tf\n",
    "from tensorflow.keras.preprocessing.text import Tokenizer\n",
    "from tensorflow.keras.preprocessing.sequence import pad_sequences\n",
    "from tensorflow.keras.utils import to_categorical"
   ]
  },
  {
   "cell_type": "code",
   "execution_count": 15,
   "id": "5b79545c",
   "metadata": {
    "execution": {
     "iopub.execute_input": "2023-06-02T06:02:47.854207Z",
     "iopub.status.busy": "2023-06-02T06:02:47.853550Z",
     "iopub.status.idle": "2023-06-02T06:02:48.017191Z",
     "shell.execute_reply": "2023-06-02T06:02:48.016073Z"
    },
    "papermill": {
     "duration": 0.181003,
     "end_time": "2023-06-02T06:02:48.019923",
     "exception": false,
     "start_time": "2023-06-02T06:02:47.838920",
     "status": "completed"
    },
    "tags": []
   },
   "outputs": [
    {
     "data": {
      "text/plain": [
       "{'<OOV>': 1,\n",
       " 'like': 2,\n",
       " 'amp': 3,\n",
       " 'fire': 4,\n",
       " 'get': 5,\n",
       " 'via': 6,\n",
       " 'new': 7,\n",
       " 'news': 8,\n",
       " 'people': 9,\n",
       " 'one': 10}"
      ]
     },
     "execution_count": 15,
     "metadata": {},
     "output_type": "execute_result"
    }
   ],
   "source": [
    "vocab_size = 1000\n",
    "oov_tok = '<OOV>'\n",
    "\n",
    "tokenizer = Tokenizer(num_words = vocab_size, oov_token=oov_tok)\n",
    "tokenizer.fit_on_texts([str(sample) for sample in x_train])\n",
    "word_index = tokenizer.word_index\n",
    "dict(list(word_index.items())[0:10])"
   ]
  },
  {
   "cell_type": "markdown",
   "id": "83f13da8",
   "metadata": {
    "papermill": {
     "duration": 0.013459,
     "end_time": "2023-06-02T06:02:48.046267",
     "exception": false,
     "start_time": "2023-06-02T06:02:48.032808",
     "status": "completed"
    },
    "tags": []
   },
   "source": [
    "<div style=\"color:white;display:fill;border-radius:8px; background-color:#323232;font-size:150%; font-family:Nexa;letter-spacing:0.5px\"> <p style=\"padding: 8px;color:white;\"><b>Convert Text sentences into Numeric Vector by using Vocabulary </b></p> </div>"
   ]
  },
  {
   "cell_type": "code",
   "execution_count": 16,
   "id": "fe0ddb98",
   "metadata": {
    "execution": {
     "iopub.execute_input": "2023-06-02T06:02:48.074208Z",
     "iopub.status.busy": "2023-06-02T06:02:48.073764Z",
     "iopub.status.idle": "2023-06-02T06:02:48.186599Z",
     "shell.execute_reply": "2023-06-02T06:02:48.185183Z"
    },
    "papermill": {
     "duration": 0.130074,
     "end_time": "2023-06-02T06:02:48.189204",
     "exception": false,
     "start_time": "2023-06-02T06:02:48.059130",
     "status": "completed"
    },
    "tags": []
   },
   "outputs": [
    {
     "name": "stdout",
     "output_type": "stream",
     "text": [
      "[1, 1, 1, 853, 1]\n"
     ]
    }
   ],
   "source": [
    "train_sequences = tokenizer.texts_to_sequences(x_train)\n",
    "print(train_sequences[0])"
   ]
  },
  {
   "cell_type": "markdown",
   "id": "8b8150b5",
   "metadata": {
    "papermill": {
     "duration": 0.013253,
     "end_time": "2023-06-02T06:02:48.215820",
     "exception": false,
     "start_time": "2023-06-02T06:02:48.202567",
     "status": "completed"
    },
    "tags": []
   },
   "source": [
    "<div style=\"color:white;display:fill;border-radius:8px; background-color:#323232;font-size:150%; font-family:Nexa;letter-spacing:0.5px\"> <p style=\"padding: 8px;color:white;\"><b>Make sentances in Equal Length</b></p> </div>"
   ]
  },
  {
   "cell_type": "code",
   "execution_count": 17,
   "id": "5610b5c2",
   "metadata": {
    "execution": {
     "iopub.execute_input": "2023-06-02T06:02:48.243735Z",
     "iopub.status.busy": "2023-06-02T06:02:48.243353Z",
     "iopub.status.idle": "2023-06-02T06:02:48.249063Z",
     "shell.execute_reply": "2023-06-02T06:02:48.247772Z"
    },
    "papermill": {
     "duration": 0.022713,
     "end_time": "2023-06-02T06:02:48.251518",
     "exception": false,
     "start_time": "2023-06-02T06:02:48.228805",
     "status": "completed"
    },
    "tags": []
   },
   "outputs": [],
   "source": [
    "embedding_dim = 32\n",
    "max_length = 50\n",
    "trunc_type = 'post'  # remove or truncate last words in sentences if max_length > 50 ans \"post\" defined last at sentence\n",
    "padding_type = 'post'"
   ]
  },
  {
   "cell_type": "code",
   "execution_count": 18,
   "id": "bc61e693",
   "metadata": {
    "execution": {
     "iopub.execute_input": "2023-06-02T06:02:48.280831Z",
     "iopub.status.busy": "2023-06-02T06:02:48.280415Z",
     "iopub.status.idle": "2023-06-02T06:02:48.320157Z",
     "shell.execute_reply": "2023-06-02T06:02:48.318794Z"
    },
    "papermill": {
     "duration": 0.057638,
     "end_time": "2023-06-02T06:02:48.322946",
     "exception": false,
     "start_time": "2023-06-02T06:02:48.265308",
     "status": "completed"
    },
    "tags": []
   },
   "outputs": [
    {
     "name": "stdout",
     "output_type": "stream",
     "text": [
      "5\n",
      "50\n",
      "45\n"
     ]
    }
   ],
   "source": [
    "train_padded = pad_sequences(train_sequences, maxlen=max_length, padding=padding_type, truncating=trunc_type)\n",
    "print(len(train_sequences[0]))\n",
    "print(len(train_padded[0]))\n",
    "print(len(x_train[0]))"
   ]
  },
  {
   "cell_type": "code",
   "execution_count": 19,
   "id": "055a0822",
   "metadata": {
    "execution": {
     "iopub.execute_input": "2023-06-02T06:02:48.351728Z",
     "iopub.status.busy": "2023-06-02T06:02:48.351313Z",
     "iopub.status.idle": "2023-06-02T06:02:48.395462Z",
     "shell.execute_reply": "2023-06-02T06:02:48.394010Z"
    },
    "papermill": {
     "duration": 0.061585,
     "end_time": "2023-06-02T06:02:48.398182",
     "exception": false,
     "start_time": "2023-06-02T06:02:48.336597",
     "status": "completed"
    },
    "tags": []
   },
   "outputs": [
    {
     "name": "stdout",
     "output_type": "stream",
     "text": [
      "1523\n",
      "(1523, 50)\n"
     ]
    }
   ],
   "source": [
    "validation_sequences = tokenizer.texts_to_sequences(x_test)\n",
    "validation_padded = pad_sequences(validation_sequences, maxlen=max_length, padding=padding_type, truncating=trunc_type)\n",
    "\n",
    "print(len(validation_sequences))\n",
    "print(validation_padded.shape)"
   ]
  },
  {
   "cell_type": "markdown",
   "id": "070df42e",
   "metadata": {
    "papermill": {
     "duration": 0.013084,
     "end_time": "2023-06-02T06:02:48.424635",
     "exception": false,
     "start_time": "2023-06-02T06:02:48.411551",
     "status": "completed"
    },
    "tags": []
   },
   "source": [
    "<div style=\"color:white;display:fill;border-radius:8px; background-color:#323232;font-size:150%; font-family:Nexa;letter-spacing:0.5px\"> <p style=\"padding: 8px;color:white;\"><b>Model Building</b></p> </div>"
   ]
  },
  {
   "cell_type": "code",
   "execution_count": 20,
   "id": "dd638e75",
   "metadata": {
    "execution": {
     "iopub.execute_input": "2023-06-02T06:02:48.452900Z",
     "iopub.status.busy": "2023-06-02T06:02:48.452515Z",
     "iopub.status.idle": "2023-06-02T06:02:48.841335Z",
     "shell.execute_reply": "2023-06-02T06:02:48.840010Z"
    },
    "papermill": {
     "duration": 0.410273,
     "end_time": "2023-06-02T06:02:48.848072",
     "exception": false,
     "start_time": "2023-06-02T06:02:48.437799",
     "status": "completed"
    },
    "tags": []
   },
   "outputs": [
    {
     "name": "stdout",
     "output_type": "stream",
     "text": [
      "Model: \"sequential\"\n",
      "_________________________________________________________________\n",
      " Layer (type)                Output Shape              Param #   \n",
      "=================================================================\n",
      " embedding (Embedding)       (None, None, 32)          32000     \n",
      "                                                                 \n",
      " lstm (LSTM)                 (None, 32)                8320      \n",
      "                                                                 \n",
      " dense (Dense)               (None, 32)                1056      \n",
      "                                                                 \n",
      " dense_1 (Dense)             (None, 1)                 33        \n",
      "                                                                 \n",
      "=================================================================\n",
      "Total params: 41,409\n",
      "Trainable params: 41,409\n",
      "Non-trainable params: 0\n",
      "_________________________________________________________________\n"
     ]
    }
   ],
   "source": [
    "model = tf.keras.Sequential([\n",
    "    tf.keras.layers.Embedding(vocab_size, embedding_dim),\n",
    "    tf.keras.layers.LSTM(32,activation='relu'),\n",
    "    tf.keras.layers.Dense(32, activation='relu'),\n",
    "    tf.keras.layers.Dense(1, activation='sigmoid')\n",
    "])\n",
    "model.summary()"
   ]
  },
  {
   "cell_type": "code",
   "execution_count": 21,
   "id": "25815983",
   "metadata": {
    "execution": {
     "iopub.execute_input": "2023-06-02T06:02:48.879591Z",
     "iopub.status.busy": "2023-06-02T06:02:48.878831Z",
     "iopub.status.idle": "2023-06-02T06:03:32.243188Z",
     "shell.execute_reply": "2023-06-02T06:03:32.242150Z"
    },
    "papermill": {
     "duration": 43.383411,
     "end_time": "2023-06-02T06:03:32.246110",
     "exception": false,
     "start_time": "2023-06-02T06:02:48.862699",
     "status": "completed"
    },
    "tags": []
   },
   "outputs": [
    {
     "name": "stdout",
     "output_type": "stream",
     "text": [
      "Epoch 1/5\n",
      "191/191 - 7s - loss: 0.6852 - accuracy: 0.5691 - val_loss: 0.6830 - val_accuracy: 0.5712 - 7s/epoch - 35ms/step\n",
      "Epoch 2/5\n",
      "191/191 - 4s - loss: 0.6809 - accuracy: 0.5749 - val_loss: 0.6830 - val_accuracy: 0.5712 - 4s/epoch - 21ms/step\n",
      "Epoch 3/5\n",
      "191/191 - 4s - loss: 0.6835 - accuracy: 0.5701 - val_loss: 0.6833 - val_accuracy: 0.5712 - 4s/epoch - 22ms/step\n",
      "Epoch 4/5\n",
      "191/191 - 4s - loss: 0.6837 - accuracy: 0.5701 - val_loss: 0.6832 - val_accuracy: 0.5712 - 4s/epoch - 21ms/step\n",
      "Epoch 5/5\n",
      "191/191 - 4s - loss: 0.6837 - accuracy: 0.5701 - val_loss: 0.6830 - val_accuracy: 0.5712 - 4s/epoch - 21ms/step\n"
     ]
    }
   ],
   "source": [
    "model.compile(loss='binary_crossentropy', optimizer='adam', metrics=['accuracy'])\n",
    "\n",
    "num_epochs = 5\n",
    "history = model.fit(train_padded, y_train, epochs=num_epochs, validation_data=(validation_padded, y_test), verbose=2)"
   ]
  },
  {
   "cell_type": "markdown",
   "id": "f55ad1e9",
   "metadata": {
    "papermill": {
     "duration": 0.01528,
     "end_time": "2023-06-02T06:03:32.277928",
     "exception": false,
     "start_time": "2023-06-02T06:03:32.262648",
     "status": "completed"
    },
    "tags": []
   },
   "source": [
    "<div style=\"color:white;display:fill;border-radius:8px; background-color:#323232;font-size:150%; font-family:Nexa;letter-spacing:0.5px\"> <p style=\"padding: 8px;color:white;\"><b>Save the model</b></p> </div>"
   ]
  },
  {
   "cell_type": "code",
   "execution_count": 22,
   "id": "bca381dd",
   "metadata": {
    "execution": {
     "iopub.execute_input": "2023-06-02T06:03:32.311319Z",
     "iopub.status.busy": "2023-06-02T06:03:32.310877Z",
     "iopub.status.idle": "2023-06-02T06:03:32.360035Z",
     "shell.execute_reply": "2023-06-02T06:03:32.359013Z"
    },
    "papermill": {
     "duration": 0.06922,
     "end_time": "2023-06-02T06:03:32.362724",
     "exception": false,
     "start_time": "2023-06-02T06:03:32.293504",
     "status": "completed"
    },
    "tags": []
   },
   "outputs": [],
   "source": [
    "model.save('model.h5')"
   ]
  },
  {
   "cell_type": "code",
   "execution_count": 23,
   "id": "e7b4414f",
   "metadata": {
    "execution": {
     "iopub.execute_input": "2023-06-02T06:03:32.396665Z",
     "iopub.status.busy": "2023-06-02T06:03:32.395988Z",
     "iopub.status.idle": "2023-06-02T06:03:32.598380Z",
     "shell.execute_reply": "2023-06-02T06:03:32.597379Z"
    },
    "papermill": {
     "duration": 0.222205,
     "end_time": "2023-06-02T06:03:32.601203",
     "exception": false,
     "start_time": "2023-06-02T06:03:32.378998",
     "status": "completed"
    },
    "tags": []
   },
   "outputs": [],
   "source": [
    "from keras.models import load_model\n",
    "model = load_model('model.h5')"
   ]
  },
  {
   "cell_type": "markdown",
   "id": "7f9dd895",
   "metadata": {
    "papermill": {
     "duration": 0.016222,
     "end_time": "2023-06-02T06:03:32.633638",
     "exception": false,
     "start_time": "2023-06-02T06:03:32.617416",
     "status": "completed"
    },
    "tags": []
   },
   "source": [
    "<div style=\"color:white;display:fill;border-radius:8px; background-color:#323232;font-size:150%; font-family:Nexa;letter-spacing:0.5px\"> <p style=\"padding: 8px;color:white;\"><b>Model on testing file</b></p> </div>"
   ]
  },
  {
   "cell_type": "code",
   "execution_count": 24,
   "id": "bf609c17",
   "metadata": {
    "execution": {
     "iopub.execute_input": "2023-06-02T06:03:32.671260Z",
     "iopub.status.busy": "2023-06-02T06:03:32.670547Z",
     "iopub.status.idle": "2023-06-02T06:03:32.751280Z",
     "shell.execute_reply": "2023-06-02T06:03:32.749788Z"
    },
    "papermill": {
     "duration": 0.101783,
     "end_time": "2023-06-02T06:03:32.754340",
     "exception": false,
     "start_time": "2023-06-02T06:03:32.652557",
     "status": "completed"
    },
    "tags": []
   },
   "outputs": [
    {
     "name": "stdout",
     "output_type": "stream",
     "text": [
      "3263\n",
      "(3263, 50)\n"
     ]
    }
   ],
   "source": [
    "validation_sequences= tokenizer.texts_to_sequences(test_df['pre_text'])\n",
    "validation_padded = pad_sequences(validation_sequences, maxlen=max_length, padding=padding_type, truncating=trunc_type)\n",
    "\n",
    "print(len(validation_sequences))\n",
    "print(validation_padded.shape)"
   ]
  },
  {
   "cell_type": "code",
   "execution_count": 25,
   "id": "ae3c57cb",
   "metadata": {
    "execution": {
     "iopub.execute_input": "2023-06-02T06:03:32.788442Z",
     "iopub.status.busy": "2023-06-02T06:03:32.788008Z",
     "iopub.status.idle": "2023-06-02T06:03:33.895810Z",
     "shell.execute_reply": "2023-06-02T06:03:33.894677Z"
    },
    "papermill": {
     "duration": 1.128228,
     "end_time": "2023-06-02T06:03:33.898570",
     "exception": false,
     "start_time": "2023-06-02T06:03:32.770342",
     "status": "completed"
    },
    "tags": []
   },
   "outputs": [
    {
     "name": "stdout",
     "output_type": "stream",
     "text": [
      "102/102 [==============================] - 1s 7ms/step\n"
     ]
    }
   ],
   "source": [
    "y_pred = model.predict(validation_padded)"
   ]
  },
  {
   "cell_type": "code",
   "execution_count": 26,
   "id": "2ad69730",
   "metadata": {
    "execution": {
     "iopub.execute_input": "2023-06-02T06:03:33.935132Z",
     "iopub.status.busy": "2023-06-02T06:03:33.934694Z",
     "iopub.status.idle": "2023-06-02T06:03:33.951306Z",
     "shell.execute_reply": "2023-06-02T06:03:33.950195Z"
    },
    "papermill": {
     "duration": 0.037826,
     "end_time": "2023-06-02T06:03:33.953835",
     "exception": false,
     "start_time": "2023-06-02T06:03:33.916009",
     "status": "completed"
    },
    "tags": []
   },
   "outputs": [],
   "source": [
    "target = [1 if pred > 0.5 else 0 for pred in y_pred]"
   ]
  },
  {
   "cell_type": "code",
   "execution_count": 27,
   "id": "f5857f65",
   "metadata": {
    "execution": {
     "iopub.execute_input": "2023-06-02T06:03:33.990384Z",
     "iopub.status.busy": "2023-06-02T06:03:33.989925Z",
     "iopub.status.idle": "2023-06-02T06:03:33.999620Z",
     "shell.execute_reply": "2023-06-02T06:03:33.998490Z"
    },
    "papermill": {
     "duration": 0.030815,
     "end_time": "2023-06-02T06:03:34.002116",
     "exception": false,
     "start_time": "2023-06-02T06:03:33.971301",
     "status": "completed"
    },
    "tags": []
   },
   "outputs": [
    {
     "data": {
      "text/plain": [
       "0           0\n",
       "1           2\n",
       "2           3\n",
       "3           9\n",
       "4          11\n",
       "        ...  \n",
       "3258    10861\n",
       "3259    10865\n",
       "3260    10868\n",
       "3261    10874\n",
       "3262    10875\n",
       "Name: id, Length: 3263, dtype: int64"
      ]
     },
     "execution_count": 27,
     "metadata": {},
     "output_type": "execute_result"
    }
   ],
   "source": [
    "test1=test_df['id']\n",
    "test1"
   ]
  },
  {
   "cell_type": "code",
   "execution_count": 28,
   "id": "8093d3fc",
   "metadata": {
    "execution": {
     "iopub.execute_input": "2023-06-02T06:03:34.038893Z",
     "iopub.status.busy": "2023-06-02T06:03:34.038516Z",
     "iopub.status.idle": "2023-06-02T06:03:34.055679Z",
     "shell.execute_reply": "2023-06-02T06:03:34.054382Z"
    },
    "papermill": {
     "duration": 0.038931,
     "end_time": "2023-06-02T06:03:34.058639",
     "exception": false,
     "start_time": "2023-06-02T06:03:34.019708",
     "status": "completed"
    },
    "tags": []
   },
   "outputs": [
    {
     "data": {
      "text/html": [
       "<div>\n",
       "<style scoped>\n",
       "    .dataframe tbody tr th:only-of-type {\n",
       "        vertical-align: middle;\n",
       "    }\n",
       "\n",
       "    .dataframe tbody tr th {\n",
       "        vertical-align: top;\n",
       "    }\n",
       "\n",
       "    .dataframe thead th {\n",
       "        text-align: right;\n",
       "    }\n",
       "</style>\n",
       "<table border=\"1\" class=\"dataframe\">\n",
       "  <thead>\n",
       "    <tr style=\"text-align: right;\">\n",
       "      <th></th>\n",
       "      <th>id</th>\n",
       "      <th>target</th>\n",
       "    </tr>\n",
       "  </thead>\n",
       "  <tbody>\n",
       "    <tr>\n",
       "      <th>0</th>\n",
       "      <td>0</td>\n",
       "      <td>0</td>\n",
       "    </tr>\n",
       "    <tr>\n",
       "      <th>1</th>\n",
       "      <td>2</td>\n",
       "      <td>0</td>\n",
       "    </tr>\n",
       "    <tr>\n",
       "      <th>2</th>\n",
       "      <td>3</td>\n",
       "      <td>0</td>\n",
       "    </tr>\n",
       "    <tr>\n",
       "      <th>3</th>\n",
       "      <td>9</td>\n",
       "      <td>0</td>\n",
       "    </tr>\n",
       "    <tr>\n",
       "      <th>4</th>\n",
       "      <td>11</td>\n",
       "      <td>0</td>\n",
       "    </tr>\n",
       "    <tr>\n",
       "      <th>...</th>\n",
       "      <td>...</td>\n",
       "      <td>...</td>\n",
       "    </tr>\n",
       "    <tr>\n",
       "      <th>3258</th>\n",
       "      <td>10861</td>\n",
       "      <td>0</td>\n",
       "    </tr>\n",
       "    <tr>\n",
       "      <th>3259</th>\n",
       "      <td>10865</td>\n",
       "      <td>0</td>\n",
       "    </tr>\n",
       "    <tr>\n",
       "      <th>3260</th>\n",
       "      <td>10868</td>\n",
       "      <td>0</td>\n",
       "    </tr>\n",
       "    <tr>\n",
       "      <th>3261</th>\n",
       "      <td>10874</td>\n",
       "      <td>0</td>\n",
       "    </tr>\n",
       "    <tr>\n",
       "      <th>3262</th>\n",
       "      <td>10875</td>\n",
       "      <td>0</td>\n",
       "    </tr>\n",
       "  </tbody>\n",
       "</table>\n",
       "<p>3263 rows × 2 columns</p>\n",
       "</div>"
      ],
      "text/plain": [
       "         id  target\n",
       "0         0       0\n",
       "1         2       0\n",
       "2         3       0\n",
       "3         9       0\n",
       "4        11       0\n",
       "...     ...     ...\n",
       "3258  10861       0\n",
       "3259  10865       0\n",
       "3260  10868       0\n",
       "3261  10874       0\n",
       "3262  10875       0\n",
       "\n",
       "[3263 rows x 2 columns]"
      ]
     },
     "execution_count": 28,
     "metadata": {},
     "output_type": "execute_result"
    }
   ],
   "source": [
    "Predict = pd.DataFrame({\n",
    "    \"id\":test1.values,\n",
    "    \"target\" : target\n",
    "},columns=[\"id\",\"target\"])\n",
    "Predict"
   ]
  },
  {
   "cell_type": "code",
   "execution_count": 29,
   "id": "1f99908d",
   "metadata": {
    "execution": {
     "iopub.execute_input": "2023-06-02T06:03:34.096327Z",
     "iopub.status.busy": "2023-06-02T06:03:34.095889Z",
     "iopub.status.idle": "2023-06-02T06:03:34.115858Z",
     "shell.execute_reply": "2023-06-02T06:03:34.114888Z"
    },
    "papermill": {
     "duration": 0.041411,
     "end_time": "2023-06-02T06:03:34.118469",
     "exception": false,
     "start_time": "2023-06-02T06:03:34.077058",
     "status": "completed"
    },
    "tags": []
   },
   "outputs": [],
   "source": [
    "Predict.set_index(\"id\", inplace=True)\n",
    "Predict.to_csv(\"sample_submission.csv\")"
   ]
  },
  {
   "cell_type": "code",
   "execution_count": 30,
   "id": "9bf052ac",
   "metadata": {
    "execution": {
     "iopub.execute_input": "2023-06-02T06:03:34.155384Z",
     "iopub.status.busy": "2023-06-02T06:03:34.154914Z",
     "iopub.status.idle": "2023-06-02T06:03:34.169948Z",
     "shell.execute_reply": "2023-06-02T06:03:34.168840Z"
    },
    "papermill": {
     "duration": 0.036448,
     "end_time": "2023-06-02T06:03:34.172520",
     "exception": false,
     "start_time": "2023-06-02T06:03:34.136072",
     "status": "completed"
    },
    "tags": []
   },
   "outputs": [
    {
     "data": {
      "text/html": [
       "<div>\n",
       "<style scoped>\n",
       "    .dataframe tbody tr th:only-of-type {\n",
       "        vertical-align: middle;\n",
       "    }\n",
       "\n",
       "    .dataframe tbody tr th {\n",
       "        vertical-align: top;\n",
       "    }\n",
       "\n",
       "    .dataframe thead th {\n",
       "        text-align: right;\n",
       "    }\n",
       "</style>\n",
       "<table border=\"1\" class=\"dataframe\">\n",
       "  <thead>\n",
       "    <tr style=\"text-align: right;\">\n",
       "      <th></th>\n",
       "      <th>id</th>\n",
       "      <th>target</th>\n",
       "    </tr>\n",
       "  </thead>\n",
       "  <tbody>\n",
       "    <tr>\n",
       "      <th>0</th>\n",
       "      <td>0</td>\n",
       "      <td>0</td>\n",
       "    </tr>\n",
       "    <tr>\n",
       "      <th>1</th>\n",
       "      <td>2</td>\n",
       "      <td>0</td>\n",
       "    </tr>\n",
       "    <tr>\n",
       "      <th>2</th>\n",
       "      <td>3</td>\n",
       "      <td>0</td>\n",
       "    </tr>\n",
       "    <tr>\n",
       "      <th>3</th>\n",
       "      <td>9</td>\n",
       "      <td>0</td>\n",
       "    </tr>\n",
       "    <tr>\n",
       "      <th>4</th>\n",
       "      <td>11</td>\n",
       "      <td>0</td>\n",
       "    </tr>\n",
       "    <tr>\n",
       "      <th>...</th>\n",
       "      <td>...</td>\n",
       "      <td>...</td>\n",
       "    </tr>\n",
       "    <tr>\n",
       "      <th>3258</th>\n",
       "      <td>10861</td>\n",
       "      <td>0</td>\n",
       "    </tr>\n",
       "    <tr>\n",
       "      <th>3259</th>\n",
       "      <td>10865</td>\n",
       "      <td>0</td>\n",
       "    </tr>\n",
       "    <tr>\n",
       "      <th>3260</th>\n",
       "      <td>10868</td>\n",
       "      <td>0</td>\n",
       "    </tr>\n",
       "    <tr>\n",
       "      <th>3261</th>\n",
       "      <td>10874</td>\n",
       "      <td>0</td>\n",
       "    </tr>\n",
       "    <tr>\n",
       "      <th>3262</th>\n",
       "      <td>10875</td>\n",
       "      <td>0</td>\n",
       "    </tr>\n",
       "  </tbody>\n",
       "</table>\n",
       "<p>3263 rows × 2 columns</p>\n",
       "</div>"
      ],
      "text/plain": [
       "         id  target\n",
       "0         0       0\n",
       "1         2       0\n",
       "2         3       0\n",
       "3         9       0\n",
       "4        11       0\n",
       "...     ...     ...\n",
       "3258  10861       0\n",
       "3259  10865       0\n",
       "3260  10868       0\n",
       "3261  10874       0\n",
       "3262  10875       0\n",
       "\n",
       "[3263 rows x 2 columns]"
      ]
     },
     "execution_count": 30,
     "metadata": {},
     "output_type": "execute_result"
    }
   ],
   "source": [
    "pd.read_csv(\"sample_submission.csv\")"
   ]
  }
 ],
 "metadata": {
  "kernelspec": {
   "display_name": "Python 3",
   "language": "python",
   "name": "python3"
  },
  "language_info": {
   "codemirror_mode": {
    "name": "ipython",
    "version": 3
   },
   "file_extension": ".py",
   "mimetype": "text/x-python",
   "name": "python",
   "nbconvert_exporter": "python",
   "pygments_lexer": "ipython3",
   "version": "3.10.10"
  },
  "papermill": {
   "default_parameters": {},
   "duration": 79.256967,
   "end_time": "2023-06-02T06:03:37.079027",
   "environment_variables": {},
   "exception": null,
   "input_path": "__notebook__.ipynb",
   "output_path": "__notebook__.ipynb",
   "parameters": {},
   "start_time": "2023-06-02T06:02:17.822060",
   "version": "2.4.0"
  }
 },
 "nbformat": 4,
 "nbformat_minor": 5
}
